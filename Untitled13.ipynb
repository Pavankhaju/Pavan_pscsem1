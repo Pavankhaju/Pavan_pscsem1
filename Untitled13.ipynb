{
 "cells": [
  {
   "cell_type": "code",
   "execution_count": 1,
   "id": "2655dc26-8d61-4dae-a61e-2e5afc301b7a",
   "metadata": {},
   "outputs": [],
   "source": [
    "s= \"this is My first python programming class and i am learNING python string and its function\""
   ]
  },
  {
   "cell_type": "code",
   "execution_count": 2,
   "id": "dc550dbc-a7ab-478f-9dfb-dfd0bbbe90af",
   "metadata": {},
   "outputs": [],
   "source": [
    "#q1"
   ]
  },
  {
   "cell_type": "code",
   "execution_count": 3,
   "id": "8442faf7-b0a1-45bf-9137-4f471e2e3163",
   "metadata": {},
   "outputs": [
    {
     "data": {
      "text/plain": [
       "'h   r tnrrmglsnimeNGyosi dtfco'"
      ]
     },
     "execution_count": 3,
     "metadata": {},
     "output_type": "execute_result"
    }
   ],
   "source": [
    "s[1:301:3]"
   ]
  },
  {
   "cell_type": "code",
   "execution_count": 4,
   "id": "8f7ea6dc-d250-421a-bd27-20fb1e928e81",
   "metadata": {},
   "outputs": [],
   "source": [
    "#q2"
   ]
  },
  {
   "cell_type": "code",
   "execution_count": 5,
   "id": "1b2ecc5d-d146-4bb1-aaff-82c7ad2b703c",
   "metadata": {},
   "outputs": [
    {
     "data": {
      "text/plain": [
       "'noitcnuf sti dna gnirts nohtyp GNINrael ma i dna ssalc gnimmargorp nohtyp tsrif yM si siht'"
      ]
     },
     "execution_count": 5,
     "metadata": {},
     "output_type": "execute_result"
    }
   ],
   "source": [
    "s[::-1]"
   ]
  },
  {
   "cell_type": "code",
   "execution_count": 6,
   "id": "3c545339-55e2-4b77-8b4a-6b4f7a021f1a",
   "metadata": {},
   "outputs": [],
   "source": [
    "#q3"
   ]
  },
  {
   "cell_type": "code",
   "execution_count": 7,
   "id": "49befae3-e88d-401d-be03-86b06b556f37",
   "metadata": {},
   "outputs": [
    {
     "data": {
      "text/plain": [
       "'THIS IS MY FIRST PYTHON PROGRAMMING CLASS AND I AM LEARNING PYTHON STRING AND ITS FUNCTION'"
      ]
     },
     "execution_count": 7,
     "metadata": {},
     "output_type": "execute_result"
    }
   ],
   "source": [
    "s.upper()"
   ]
  },
  {
   "cell_type": "code",
   "execution_count": 8,
   "id": "c410dc3b-414e-4959-b8de-db80bc5ccaf3",
   "metadata": {},
   "outputs": [],
   "source": [
    "s1=s.upper()"
   ]
  },
  {
   "cell_type": "code",
   "execution_count": 9,
   "id": "dbde0832-1b39-4786-bbdb-e97b77b92a72",
   "metadata": {},
   "outputs": [
    {
     "data": {
      "text/plain": [
       "['THIS',\n",
       " 'IS',\n",
       " 'MY',\n",
       " 'FIRST',\n",
       " 'PYTHON',\n",
       " 'PROGRAMMING',\n",
       " 'CLASS',\n",
       " 'AND',\n",
       " 'I',\n",
       " 'AM',\n",
       " 'LEARNING',\n",
       " 'PYTHON',\n",
       " 'STRING',\n",
       " 'AND',\n",
       " 'ITS',\n",
       " 'FUNCTION']"
      ]
     },
     "execution_count": 9,
     "metadata": {},
     "output_type": "execute_result"
    }
   ],
   "source": [
    "s1.split()"
   ]
  },
  {
   "cell_type": "code",
   "execution_count": 10,
   "id": "9c3be190-658b-49d3-8070-c78b9fe8d466",
   "metadata": {},
   "outputs": [],
   "source": [
    "#q4"
   ]
  },
  {
   "cell_type": "code",
   "execution_count": 11,
   "id": "96d8d2c0-fb3f-4c57-9dd9-15a36661189b",
   "metadata": {},
   "outputs": [
    {
     "data": {
      "text/plain": [
       "'this is my first python programming class and i am learning python string and its function'"
      ]
     },
     "execution_count": 11,
     "metadata": {},
     "output_type": "execute_result"
    }
   ],
   "source": [
    "s.lower()"
   ]
  },
  {
   "cell_type": "code",
   "execution_count": 12,
   "id": "cf736dec-de93-49e9-9fcb-6c83f1cbd1c0",
   "metadata": {},
   "outputs": [],
   "source": [
    "#q5"
   ]
  },
  {
   "cell_type": "code",
   "execution_count": 13,
   "id": "22cc8c3d-c3c1-4755-bee6-b85e0886e01d",
   "metadata": {},
   "outputs": [
    {
     "data": {
      "text/plain": [
       "'This is my first python programming class and i am learning python string and its function'"
      ]
     },
     "execution_count": 13,
     "metadata": {},
     "output_type": "execute_result"
    }
   ],
   "source": [
    "s.capitalize()"
   ]
  },
  {
   "cell_type": "code",
   "execution_count": 14,
   "id": "4cfcbdcf-9a5c-4205-b717-859e640e229b",
   "metadata": {},
   "outputs": [],
   "source": [
    "#q6"
   ]
  },
  {
   "cell_type": "code",
   "execution_count": 15,
   "id": "232d3d4b-630b-4014-883d-c0fd36c011d1",
   "metadata": {},
   "outputs": [],
   "source": [
    "#q6"
   ]
  },
  {
   "cell_type": "code",
   "execution_count": 16,
   "id": "3fa5a7c4-51d4-4420-b322-c245d5205dbe",
   "metadata": {},
   "outputs": [],
   "source": [
    "#The isalpha() method returns True if all the characters in the string are alphabets, and the isalnum() method returns True if all the characters in the string are either alphabets or numbers. "
   ]
  },
  {
   "cell_type": "code",
   "execution_count": 17,
   "id": "92fc3868-79c5-48f1-898a-fe6907f156cd",
   "metadata": {},
   "outputs": [],
   "source": [
    "#for example"
   ]
  },
  {
   "cell_type": "code",
   "execution_count": 19,
   "id": "20772041-2d29-4f5e-b969-2100fe0491c7",
   "metadata": {},
   "outputs": [],
   "source": [
    "test=\"jhdjk\"\n",
    "test1=\"ugh58k5dh\""
   ]
  },
  {
   "cell_type": "code",
   "execution_count": 20,
   "id": "5fe7aa4c-d84b-454c-ba07-bc865fb30474",
   "metadata": {},
   "outputs": [
    {
     "data": {
      "text/plain": [
       "True"
      ]
     },
     "execution_count": 20,
     "metadata": {},
     "output_type": "execute_result"
    }
   ],
   "source": [
    "test.isalpha()"
   ]
  },
  {
   "cell_type": "code",
   "execution_count": 21,
   "id": "042940d4-509a-4c3e-b482-a73f6ef64016",
   "metadata": {},
   "outputs": [
    {
     "data": {
      "text/plain": [
       "True"
      ]
     },
     "execution_count": 21,
     "metadata": {},
     "output_type": "execute_result"
    }
   ],
   "source": [
    "test.isalnum()"
   ]
  },
  {
   "cell_type": "code",
   "execution_count": 23,
   "id": "89af2540-b0e1-4b3e-8005-4b2b34acc458",
   "metadata": {},
   "outputs": [
    {
     "data": {
      "text/plain": [
       "False"
      ]
     },
     "execution_count": 23,
     "metadata": {},
     "output_type": "execute_result"
    }
   ],
   "source": [
    "test1.isalpha()"
   ]
  },
  {
   "cell_type": "code",
   "execution_count": 25,
   "id": "6f833197-82e3-40a9-be59-43f57ec07e1c",
   "metadata": {},
   "outputs": [
    {
     "data": {
      "text/plain": [
       "True"
      ]
     },
     "execution_count": 25,
     "metadata": {},
     "output_type": "execute_result"
    }
   ],
   "source": [
    "test1.isalnum()"
   ]
  },
  {
   "cell_type": "code",
   "execution_count": 26,
   "id": "01f361db-b87b-443c-a855-eba32d99e5d4",
   "metadata": {},
   "outputs": [],
   "source": [
    "#q7"
   ]
  },
  {
   "cell_type": "code",
   "execution_count": 27,
   "id": "33770e71-57ad-4029-b5c7-719c0823b26a",
   "metadata": {},
   "outputs": [],
   "source": [
    "exp=\"This\\tis\\ta\\texample\""
   ]
  },
  {
   "cell_type": "code",
   "execution_count": 28,
   "id": "2d0178e0-20e3-4e10-ae22-8469f6ad84e3",
   "metadata": {},
   "outputs": [
    {
     "data": {
      "text/plain": [
       "'This    is      a       example'"
      ]
     },
     "execution_count": 28,
     "metadata": {},
     "output_type": "execute_result"
    }
   ],
   "source": [
    "exp.expandtabs()"
   ]
  },
  {
   "cell_type": "code",
   "execution_count": 29,
   "id": "fee42af3-46dc-4497-97fd-02b16427a6f4",
   "metadata": {},
   "outputs": [
    {
     "data": {
      "text/plain": [
       "'This  is  a example'"
      ]
     },
     "execution_count": 29,
     "metadata": {},
     "output_type": "execute_result"
    }
   ],
   "source": [
    "exp.expandtabs(2)"
   ]
  },
  {
   "cell_type": "code",
   "execution_count": 30,
   "id": "b03837d8-02f7-47c1-b7c0-ae8da7de867a",
   "metadata": {},
   "outputs": [
    {
     "data": {
      "text/plain": [
       "'This  is a  example'"
      ]
     },
     "execution_count": 30,
     "metadata": {},
     "output_type": "execute_result"
    }
   ],
   "source": [
    "exp.expandtabs(3)"
   ]
  },
  {
   "cell_type": "code",
   "execution_count": 31,
   "id": "974dbd3f-edb0-4eb6-bc77-4bfd22e45e7b",
   "metadata": {},
   "outputs": [],
   "source": [
    "#Q8"
   ]
  },
  {
   "cell_type": "code",
   "execution_count": 32,
   "id": "3dfc687d-05fd-4d0e-a049-75505cd208ef",
   "metadata": {},
   "outputs": [],
   "source": [
    "#1 example of srrip;"
   ]
  },
  {
   "cell_type": "code",
   "execution_count": 33,
   "id": "2ba9c928-917a-48c8-9895-4add087d0a96",
   "metadata": {},
   "outputs": [],
   "source": [
    "a1= \"@@@22@hey!! ayush@2@@@\""
   ]
  },
  {
   "cell_type": "code",
   "execution_count": 35,
   "id": "1d056b2b-6094-42e5-a570-0c98bb6ecde9",
   "metadata": {},
   "outputs": [
    {
     "data": {
      "text/plain": [
       "'hey!! ayush'"
      ]
     },
     "execution_count": 35,
     "metadata": {},
     "output_type": "execute_result"
    }
   ],
   "source": [
    "a1.strip(\"@2\") #removes all @2only from the right side"
   ]
  },
  {
   "cell_type": "code",
   "execution_count": 36,
   "id": "d5f46863-8614-41d9-b08a-7185803633cb",
   "metadata": {},
   "outputs": [],
   "source": [
    "#2 exaple of Lstrip:"
   ]
  },
  {
   "cell_type": "code",
   "execution_count": 37,
   "id": "95481159-4dbc-4b8e-8722-9137a2d88af4",
   "metadata": {},
   "outputs": [],
   "source": [
    "a2=\"@@@22@hey!! ayush@2@@@\""
   ]
  },
  {
   "cell_type": "code",
   "execution_count": 38,
   "id": "ff94d188-437f-435b-ae4d-1f8a6c737352",
   "metadata": {},
   "outputs": [
    {
     "data": {
      "text/plain": [
       "'hey!! ayush@2@@@'"
      ]
     },
     "execution_count": 38,
     "metadata": {},
     "output_type": "execute_result"
    }
   ],
   "source": [
    "a2.lstrip(\"@2\")"
   ]
  },
  {
   "cell_type": "code",
   "execution_count": 39,
   "id": "aa60c249-834e-48c8-8db8-495698862840",
   "metadata": {},
   "outputs": [],
   "source": [
    "#3 example of rstrip:"
   ]
  },
  {
   "cell_type": "code",
   "execution_count": 40,
   "id": "15954758-c2f6-48a5-9859-b71c4099173c",
   "metadata": {},
   "outputs": [
    {
     "data": {
      "text/plain": [
       "'@@@22@hey!! ayush'"
      ]
     },
     "execution_count": 40,
     "metadata": {},
     "output_type": "execute_result"
    }
   ],
   "source": [
    "a3= \"@@@222hey!! ayush@2@@2\"\n",
    "a2.rstrip(\"@2\")"
   ]
  },
  {
   "cell_type": "code",
   "execution_count": 41,
   "id": "1182a670-1500-43f1-903b-7a5bde57101e",
   "metadata": {},
   "outputs": [],
   "source": [
    "#q9"
   ]
  },
  {
   "cell_type": "code",
   "execution_count": null,
   "id": "c8c0d755-723b-46fe-8909-b8d2e64fb1f6",
   "metadata": {},
   "outputs": [],
   "source": [
    "st"
   ]
  }
 ],
 "metadata": {
  "kernelspec": {
   "display_name": "Python 3 (ipykernel)",
   "language": "python",
   "name": "python3"
  },
  "language_info": {
   "codemirror_mode": {
    "name": "ipython",
    "version": 3
   },
   "file_extension": ".py",
   "mimetype": "text/x-python",
   "name": "python",
   "nbconvert_exporter": "python",
   "pygments_lexer": "ipython3",
   "version": "3.10.12"
  }
 },
 "nbformat": 4,
 "nbformat_minor": 5
}
