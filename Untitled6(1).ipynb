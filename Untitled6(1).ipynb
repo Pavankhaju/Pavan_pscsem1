{
 "cells": [
  {
   "cell_type": "code",
   "execution_count": 2,
   "id": "22c914a4-6e97-49df-bbae-5ba48ff7ab8f",
   "metadata": {},
   "outputs": [
    {
     "data": {
      "text/plain": [
       "'FardEEn ahMed'"
      ]
     },
     "execution_count": 2,
     "metadata": {},
     "output_type": "execute_result"
    }
   ],
   "source": [
    "name= \"FardEEn ahMed\"\n",
    "name"
   ]
  },
  {
   "cell_type": "code",
   "execution_count": 4,
   "id": "df44b917-2072-4af3-9b3f-7b038bf48ebc",
   "metadata": {},
   "outputs": [
    {
     "data": {
      "text/plain": [
       "'fARDeeN AHmED'"
      ]
     },
     "execution_count": 4,
     "metadata": {},
     "output_type": "execute_result"
    }
   ],
   "source": [
    "name.swapcase()"
   ]
  },
  {
   "cell_type": "code",
   "execution_count": 6,
   "id": "5c958c22-230e-4168-9daf-093bf04ed687",
   "metadata": {},
   "outputs": [
    {
     "data": {
      "text/plain": [
       "'F@a@r@d@E@E@n@ @a@h@M@e@d'"
      ]
     },
     "execution_count": 6,
     "metadata": {},
     "output_type": "execute_result"
    }
   ],
   "source": [
    "'@'.join(name)"
   ]
  },
  {
   "cell_type": "code",
   "execution_count": 7,
   "id": "6cb8ce96-a071-43e6-851b-af11019f383c",
   "metadata": {},
   "outputs": [
    {
     "data": {
      "text/plain": [
       "True"
      ]
     },
     "execution_count": 7,
     "metadata": {},
     "output_type": "execute_result"
    }
   ],
   "source": [
    "name1=\"tanushree jadhav\"\n",
    "d=4534523\n",
    "d.is_integer()"
   ]
  },
  {
   "cell_type": "code",
   "execution_count": 10,
   "id": "0c481315-bc27-4571-9e98-60db8494b455",
   "metadata": {},
   "outputs": [],
   "source": [
    "name1=\"TanushreeJadhav\""
   ]
  },
  {
   "cell_type": "code",
   "execution_count": 11,
   "id": "494d84f6-f3c1-4914-ac1b-2b905f1b963b",
   "metadata": {},
   "outputs": [
    {
     "data": {
      "text/plain": [
       "True"
      ]
     },
     "execution_count": 11,
     "metadata": {},
     "output_type": "execute_result"
    }
   ],
   "source": [
    "name1.isalpha()"
   ]
  },
  {
   "cell_type": "code",
   "execution_count": 12,
   "id": "3890adbe-7609-4130-a2f0-b89fba09e1e3",
   "metadata": {},
   "outputs": [
    {
     "data": {
      "text/plain": [
       "True"
      ]
     },
     "execution_count": 12,
     "metadata": {},
     "output_type": "execute_result"
    }
   ],
   "source": [
    "name1.isalnum()"
   ]
  },
  {
   "cell_type": "code",
   "execution_count": 13,
   "id": "3bb2047d-e2ef-4037-b4cd-673b59b7e9bf",
   "metadata": {},
   "outputs": [
    {
     "data": {
      "text/plain": [
       "True"
      ]
     },
     "execution_count": 13,
     "metadata": {},
     "output_type": "execute_result"
    }
   ],
   "source": [
    "name1.startswith('T')"
   ]
  },
  {
   "cell_type": "code",
   "execution_count": 14,
   "id": "85171249-c640-4c24-9de8-68d8151262a1",
   "metadata": {},
   "outputs": [
    {
     "data": {
      "text/plain": [
       "'TanushreeJadhav'"
      ]
     },
     "execution_count": 14,
     "metadata": {},
     "output_type": "execute_result"
    }
   ],
   "source": [
    "name1"
   ]
  },
  {
   "cell_type": "code",
   "execution_count": 15,
   "id": "12c18d7a-0481-431a-a412-44ad9deffe9c",
   "metadata": {},
   "outputs": [
    {
     "data": {
      "text/plain": [
       "<reversed at 0x7f80984a6b90>"
      ]
     },
     "execution_count": 15,
     "metadata": {},
     "output_type": "execute_result"
    }
   ],
   "source": [
    "reversed(name1)"
   ]
  },
  {
   "cell_type": "code",
   "execution_count": null,
   "id": "f739a05f-46e0-416a-b618-0017837eefc6",
   "metadata": {},
   "outputs": [],
   "source": [
    "\"\".join(reversed"
   ]
  }
 ],
 "metadata": {
  "kernelspec": {
   "display_name": "Python 3 (ipykernel)",
   "language": "python",
   "name": "python3"
  },
  "language_info": {
   "codemirror_mode": {
    "name": "ipython",
    "version": 3
   },
   "file_extension": ".py",
   "mimetype": "text/x-python",
   "name": "python",
   "nbconvert_exporter": "python",
   "pygments_lexer": "ipython3",
   "version": "3.12.4"
  }
 },
 "nbformat": 4,
 "nbformat_minor": 5
}
